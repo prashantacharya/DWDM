{
 "cells": [
  {
   "cell_type": "markdown",
   "id": "0a445e3a",
   "metadata": {},
   "source": [
    "### Standard normalization"
   ]
  },
  {
   "cell_type": "code",
   "execution_count": 11,
   "id": "8d166666",
   "metadata": {},
   "outputs": [
    {
     "name": "stdout",
     "output_type": "stream",
     "text": [
      "Original Data\n",
      "    Salary  Age\n",
      "0   45000   42\n",
      "1   32000   36\n",
      "2   58000   48\n",
      "3   37000   32\n",
      "\n",
      "\n",
      "Normalized Data\n",
      "     Salary       Age\n",
      "0  0.176318  0.357143\n",
      "1 -0.969750 -0.500000\n",
      "2  1.322386  1.214286\n",
      "3 -0.528954 -1.071429\n"
     ]
    }
   ],
   "source": [
    "import numpy as np\n",
    "import pandas as pd\n",
    "\n",
    "class StandardNorm:\n",
    "  def scale(self, data):\n",
    "    for i in data.columns:\n",
    "      mean = data[i].mean()\n",
    "      sd = data[i].std()\n",
    "      data[i] = (data[i] - mean) / sd\n",
    "    return data\n",
    "\n",
    "data = pd.DataFrame([[45000, 42], [32000, 36], [58000, 48], [37000, 32]], columns=['Salary', 'Age'])\n",
    "print(f'Original Data\\n {data}')\n",
    "\n",
    "s = StandardNorm();\n",
    "normalized_data = s.scale(data);\n",
    "print('\\n\\nNormalized Data');\n",
    "print(normalized_data)\n"
   ]
  },
  {
   "cell_type": "markdown",
   "id": "5d1b5038",
   "metadata": {},
   "source": [
    "### Min-max Normalization"
   ]
  },
  {
   "cell_type": "code",
   "execution_count": 16,
   "id": "2cbc9f33",
   "metadata": {},
   "outputs": [
    {
     "name": "stdout",
     "output_type": "stream",
     "text": [
      "Original Data:\n",
      "    Salary  Age\n",
      "0   45000   42\n",
      "1   32000   36\n",
      "2   58000   48\n",
      "3   37000   32\n",
      "\n",
      "\n",
      "Normalized Data:\n",
      "      Salary    Age\n",
      "0  0.500000  0.625\n",
      "1  0.000000  0.250\n",
      "2  1.000000  1.000\n",
      "3  0.192308  0.000\n"
     ]
    }
   ],
   "source": [
    "import numpy as np\n",
    "import pandas as pd\n",
    "\n",
    "class MinMaxNorm:\n",
    "    def scale(self, data):\n",
    "        for col in data.columns:\n",
    "            min = data[col].min()\n",
    "            max = data[col].max()\n",
    "            data[col] = (data[col] - min) / (max -min)\n",
    "        return data\n",
    "\n",
    "data = pd.DataFrame([[45000, 42], [32000, 36], [58000, 48], [37000, 32]], columns=['Salary', 'Age'])\n",
    "print(f'Original Data:\\n {data}')\n",
    "\n",
    "m = MinMaxNorm()\n",
    "normalized_data = m.scale(data)\n",
    "print(f'\\n\\nNormalized Data:\\n {normalized_data}')"
   ]
  }
 ],
 "metadata": {
  "kernelspec": {
   "display_name": "Python 3 (ipykernel)",
   "language": "python",
   "name": "python3"
  },
  "language_info": {
   "codemirror_mode": {
    "name": "ipython",
    "version": 3
   },
   "file_extension": ".py",
   "mimetype": "text/x-python",
   "name": "python",
   "nbconvert_exporter": "python",
   "pygments_lexer": "ipython3",
   "version": "3.10.2"
  }
 },
 "nbformat": 4,
 "nbformat_minor": 5
}
